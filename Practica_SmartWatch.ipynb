{
 "cells": [
  {
   "attachments": {},
   "cell_type": "markdown",
   "metadata": {},
   "source": [
    "# Adquisición de los archivos XML del reloj"
   ]
  },
  {
   "attachments": {},
   "cell_type": "markdown",
   "metadata": {},
   "source": [
    "## Introducción"
   ]
  },
  {
   "attachments": {},
   "cell_type": "markdown",
   "metadata": {},
   "source": [
    "El primer paso para extraer los datos del reloj, fue mirar si la aplicación oficial del reloj xiaomi Mi Watch Color, tenía la posibilidad de exportar los datos de manera sencilla. Después de varias páginas encontradas, todas ellas coincidían en un método sencillo el cual no he sido capaz de utilizar, porque se trataba de la aplicación que usa el mismo reloj pero la versión Europea. El mio es la versión China que me compré hace 3 años por Aliexpress, lo que conlleva que la aplicación y sus funciones se vean reducidas por la alta capacidad de presión que ejerce el gobierno chino sobre las compañias tecnológicas. "
   ]
  },
  {
   "attachments": {},
   "cell_type": "markdown",
   "metadata": {},
   "source": [
    "## Proceso"
   ]
  },
  {
   "attachments": {},
   "cell_type": "markdown",
   "metadata": {},
   "source": [
    "La falta de métodos para extraer los datos de mi reloj, me llevó a la búsqueda de otros caminos con aplicaciones de terceros. Al no tratarse de aplicaciones demasiado fiables\n",
    "Indagando dentro de la aplicación oficial y después de encontrar que se podía conectar con aplicaciones de terceros decidí probar a conectarla con la aplicación oficial de Salud de Apple, la cual ofrece algo más de privacidad al menos a la hora de saber que mis datos los tiene una multinacional y no una empresa que no conozco. "
   ]
  },
  {
   "attachments": {},
   "cell_type": "markdown",
   "metadata": {},
   "source": [
    "La siguiente acción tras vincular las dos aplicaciones fue extraer los datos en formato xml desde una opción en el apartado del perfil de la aplicación de apple. Esta acción te avisará de que no es seguro extraer la información además de todo tipo de avisos que te alertan para que apple se descuide de lo que le pueda pasar a tu información a partir de ese momento.\n"
   ]
  },
  {
   "cell_type": "code",
   "execution_count": 2,
   "metadata": {},
   "outputs": [],
   "source": [
    "import xml.etree.ElementTree as element\n",
    "import pandas as pd\n",
    "import datetime as dt\n",
    "import matplotlib.pyplot as plt\n",
    "plt.style.use(\"fivethirtyeight\")"
   ]
  },
  {
   "attachments": {},
   "cell_type": "markdown",
   "metadata": {},
   "source": [
    "Importamos el archivo xml con los datos del reloj y mediante la libreria de xml integrada en python, leemos y cargamos el archivo como un array mediante el atributo Record, el cual es el nombre que Apple ha dado a todos los datos que se han guardado en la aplicación."
   ]
  },
  {
   "cell_type": "code",
   "execution_count": 3,
   "metadata": {},
   "outputs": [],
   "source": [
    "tree = element.parse('./data_watchx/exportacion.xml') \n",
    "# for every health record, extract the attributes\n",
    "root = tree.getroot()\n",
    "record_list = [x.attrib for x in root.iter('Record')]"
   ]
  },
  {
   "cell_type": "code",
   "execution_count": 4,
   "metadata": {},
   "outputs": [
    {
     "data": {
      "text/html": [
       "<div>\n",
       "<style scoped>\n",
       "    .dataframe tbody tr th:only-of-type {\n",
       "        vertical-align: middle;\n",
       "    }\n",
       "\n",
       "    .dataframe tbody tr th {\n",
       "        vertical-align: top;\n",
       "    }\n",
       "\n",
       "    .dataframe thead th {\n",
       "        text-align: right;\n",
       "    }\n",
       "</style>\n",
       "<table border=\"1\" class=\"dataframe\">\n",
       "  <thead>\n",
       "    <tr style=\"text-align: right;\">\n",
       "      <th></th>\n",
       "      <th>type</th>\n",
       "      <th>sourceName</th>\n",
       "      <th>sourceVersion</th>\n",
       "      <th>unit</th>\n",
       "      <th>creationDate</th>\n",
       "      <th>startDate</th>\n",
       "      <th>endDate</th>\n",
       "      <th>value</th>\n",
       "      <th>device</th>\n",
       "    </tr>\n",
       "  </thead>\n",
       "  <tbody>\n",
       "    <tr>\n",
       "      <th>0</th>\n",
       "      <td>Height</td>\n",
       "      <td>iPhone de Jav</td>\n",
       "      <td>16.1.2</td>\n",
       "      <td>cm</td>\n",
       "      <td>2022-12-03 17:16:18+01:00</td>\n",
       "      <td>2022-12-03 17:16:18</td>\n",
       "      <td>2022-12-03 17:16:18+01:00</td>\n",
       "      <td>189.0</td>\n",
       "      <td>NaN</td>\n",
       "    </tr>\n",
       "    <tr>\n",
       "      <th>1</th>\n",
       "      <td>BodyMass</td>\n",
       "      <td>iPhone de Jav</td>\n",
       "      <td>16.1.2</td>\n",
       "      <td>kg</td>\n",
       "      <td>2022-12-03 17:16:18+01:00</td>\n",
       "      <td>2022-12-03 17:16:18</td>\n",
       "      <td>2022-12-03 17:16:18+01:00</td>\n",
       "      <td>88.0</td>\n",
       "      <td>NaN</td>\n",
       "    </tr>\n",
       "    <tr>\n",
       "      <th>2</th>\n",
       "      <td>HeartRate</td>\n",
       "      <td>Mi Fitness</td>\n",
       "      <td>2</td>\n",
       "      <td>count/min</td>\n",
       "      <td>2022-12-15 22:24:46+01:00</td>\n",
       "      <td>2022-12-15 00:00:00</td>\n",
       "      <td>2022-12-15 01:00:00+01:00</td>\n",
       "      <td>56.0</td>\n",
       "      <td>NaN</td>\n",
       "    </tr>\n",
       "    <tr>\n",
       "      <th>3</th>\n",
       "      <td>HeartRate</td>\n",
       "      <td>Mi Fitness</td>\n",
       "      <td>2</td>\n",
       "      <td>count/min</td>\n",
       "      <td>2022-12-15 22:24:46+01:00</td>\n",
       "      <td>2022-12-15 00:00:00</td>\n",
       "      <td>2022-12-15 01:00:00+01:00</td>\n",
       "      <td>76.0</td>\n",
       "      <td>NaN</td>\n",
       "    </tr>\n",
       "    <tr>\n",
       "      <th>4</th>\n",
       "      <td>HeartRate</td>\n",
       "      <td>Mi Fitness</td>\n",
       "      <td>2</td>\n",
       "      <td>count/min</td>\n",
       "      <td>2022-12-15 22:24:46+01:00</td>\n",
       "      <td>2022-12-15 00:00:00</td>\n",
       "      <td>2022-12-15 01:00:00+01:00</td>\n",
       "      <td>88.0</td>\n",
       "      <td>NaN</td>\n",
       "    </tr>\n",
       "  </tbody>\n",
       "</table>\n",
       "</div>"
      ],
      "text/plain": [
       "        type     sourceName sourceVersion       unit  \\\n",
       "0     Height  iPhone de Jav        16.1.2         cm   \n",
       "1   BodyMass  iPhone de Jav        16.1.2         kg   \n",
       "2  HeartRate     Mi Fitness             2  count/min   \n",
       "3  HeartRate     Mi Fitness             2  count/min   \n",
       "4  HeartRate     Mi Fitness             2  count/min   \n",
       "\n",
       "               creationDate           startDate                   endDate  \\\n",
       "0 2022-12-03 17:16:18+01:00 2022-12-03 17:16:18 2022-12-03 17:16:18+01:00   \n",
       "1 2022-12-03 17:16:18+01:00 2022-12-03 17:16:18 2022-12-03 17:16:18+01:00   \n",
       "2 2022-12-15 22:24:46+01:00 2022-12-15 00:00:00 2022-12-15 01:00:00+01:00   \n",
       "3 2022-12-15 22:24:46+01:00 2022-12-15 00:00:00 2022-12-15 01:00:00+01:00   \n",
       "4 2022-12-15 22:24:46+01:00 2022-12-15 00:00:00 2022-12-15 01:00:00+01:00   \n",
       "\n",
       "   value device  \n",
       "0  189.0    NaN  \n",
       "1   88.0    NaN  \n",
       "2   56.0    NaN  \n",
       "3   76.0    NaN  \n",
       "4   88.0    NaN  "
      ]
     },
     "execution_count": 4,
     "metadata": {},
     "output_type": "execute_result"
    }
   ],
   "source": [
    "record_data = pd.DataFrame(record_list)\n",
    "\n",
    "# convertimos a tipo fecha los valores del dataframe\n",
    "for col in ['creationDate', 'startDate', 'endDate']:\n",
    "    record_data[col] = pd.to_datetime(record_data[col])\n",
    "\n",
    "# corregimos algunos de los valores que aparecen en el campo value, debido a que Apple no rellena la mayoría por falta de incompatibilidad con la aplicación del reloj\n",
    "record_data['value'] = pd.to_numeric(record_data['value'], errors='coerce')\n",
    "\n",
    "#rellenas con 1.0 para que sea más fácil manejarlos\n",
    "record_data['value'] = record_data['value'].fillna(1.0)\n",
    "\n",
    "# cambiamos algunos nombres que no era fácil trabajar con ellos.\n",
    "record_data['type'] = record_data['type'].str.replace('HKQuantityTypeIdentifier', '')\n",
    "record_data['type'] = record_data['type'].str.replace('HKCategoryTypeIdentifier', '')\n",
    "record_data['startDate'] = record_data['startDate'].dt.tz_localize(None)\n",
    "record_data.head()"
   ]
  },
  {
   "attachments": {},
   "cell_type": "markdown",
   "metadata": {},
   "source": [
    "Creamos y ajustamos cómo será nuestro dataframe final"
   ]
  },
  {
   "cell_type": "code",
   "execution_count": 5,
   "metadata": {},
   "outputs": [],
   "source": [
    "heart_rate= record_data[record_data[\"type\"]=='HeartRate']\n",
    "heart_rate.index.name=\"index\"\n",
    "heart_rate=heart_rate.rename(columns={\"value\": \"hr\", \"startDate\": \"datetime\"})\n",
    "visualizing_heart=heart_rate.drop(['type',\"sourceName\",'sourceVersion',\"unit\",'creationDate','endDate','device'],axis=1)"
   ]
  },
  {
   "attachments": {},
   "cell_type": "markdown",
   "metadata": {},
   "source": [
    "Dataframe Final el cual utilizaremos para sacar una gráfica y ver cómo fluctua mi frecuencia cardiaca"
   ]
  },
  {
   "cell_type": "code",
   "execution_count": 6,
   "metadata": {},
   "outputs": [
    {
     "data": {
      "text/html": [
       "<div>\n",
       "<style scoped>\n",
       "    .dataframe tbody tr th:only-of-type {\n",
       "        vertical-align: middle;\n",
       "    }\n",
       "\n",
       "    .dataframe tbody tr th {\n",
       "        vertical-align: top;\n",
       "    }\n",
       "\n",
       "    .dataframe thead th {\n",
       "        text-align: right;\n",
       "    }\n",
       "</style>\n",
       "<table border=\"1\" class=\"dataframe\">\n",
       "  <thead>\n",
       "    <tr style=\"text-align: right;\">\n",
       "      <th></th>\n",
       "      <th>datetime</th>\n",
       "      <th>hr</th>\n",
       "    </tr>\n",
       "    <tr>\n",
       "      <th>index</th>\n",
       "      <th></th>\n",
       "      <th></th>\n",
       "    </tr>\n",
       "  </thead>\n",
       "  <tbody>\n",
       "    <tr>\n",
       "      <th>2</th>\n",
       "      <td>2022-12-15 00:00:00</td>\n",
       "      <td>56.0</td>\n",
       "    </tr>\n",
       "    <tr>\n",
       "      <th>3</th>\n",
       "      <td>2022-12-15 00:00:00</td>\n",
       "      <td>76.0</td>\n",
       "    </tr>\n",
       "    <tr>\n",
       "      <th>4</th>\n",
       "      <td>2022-12-15 00:00:00</td>\n",
       "      <td>88.0</td>\n",
       "    </tr>\n",
       "    <tr>\n",
       "      <th>5</th>\n",
       "      <td>2022-12-15 00:00:00</td>\n",
       "      <td>88.0</td>\n",
       "    </tr>\n",
       "    <tr>\n",
       "      <th>6</th>\n",
       "      <td>2022-12-15 01:00:00</td>\n",
       "      <td>48.0</td>\n",
       "    </tr>\n",
       "    <tr>\n",
       "      <th>...</th>\n",
       "      <td>...</td>\n",
       "      <td>...</td>\n",
       "    </tr>\n",
       "    <tr>\n",
       "      <th>1353</th>\n",
       "      <td>2022-12-17 08:00:00</td>\n",
       "      <td>56.0</td>\n",
       "    </tr>\n",
       "    <tr>\n",
       "      <th>1354</th>\n",
       "      <td>2022-12-17 08:00:00</td>\n",
       "      <td>69.0</td>\n",
       "    </tr>\n",
       "    <tr>\n",
       "      <th>1355</th>\n",
       "      <td>2022-12-17 08:00:00</td>\n",
       "      <td>118.0</td>\n",
       "    </tr>\n",
       "    <tr>\n",
       "      <th>1356</th>\n",
       "      <td>2022-12-17 09:00:00</td>\n",
       "      <td>67.0</td>\n",
       "    </tr>\n",
       "    <tr>\n",
       "      <th>1357</th>\n",
       "      <td>2022-12-17 09:00:00</td>\n",
       "      <td>104.0</td>\n",
       "    </tr>\n",
       "  </tbody>\n",
       "</table>\n",
       "<p>1356 rows × 2 columns</p>\n",
       "</div>"
      ],
      "text/plain": [
       "                 datetime     hr\n",
       "index                           \n",
       "2     2022-12-15 00:00:00   56.0\n",
       "3     2022-12-15 00:00:00   76.0\n",
       "4     2022-12-15 00:00:00   88.0\n",
       "5     2022-12-15 00:00:00   88.0\n",
       "6     2022-12-15 01:00:00   48.0\n",
       "...                   ...    ...\n",
       "1353  2022-12-17 08:00:00   56.0\n",
       "1354  2022-12-17 08:00:00   69.0\n",
       "1355  2022-12-17 08:00:00  118.0\n",
       "1356  2022-12-17 09:00:00   67.0\n",
       "1357  2022-12-17 09:00:00  104.0\n",
       "\n",
       "[1356 rows x 2 columns]"
      ]
     },
     "execution_count": 6,
     "metadata": {},
     "output_type": "execute_result"
    }
   ],
   "source": [
    "visualizing_heart"
   ]
  },
  {
   "cell_type": "code",
   "execution_count": 7,
   "metadata": {},
   "outputs": [
    {
     "name": "stderr",
     "output_type": "stream",
     "text": [
      "C:\\Users\\javier\\AppData\\Local\\Temp\\ipykernel_5536\\1043868294.py:2: FutureWarning: The behavior of `series[i:j]` with an integer-dtype index is deprecated. In a future version, this will be treated as *label-based* indexing, consistent with e.g. `series[i]` lookups. To retain the old behavior, use `series.iloc[i:j]`. To get the future behavior, use `series.loc[i:j]`.\n",
      "  plt.plot(heart_rate['datetime'][:40],heart_rate['hr'][:40])\n"
     ]
    },
    {
     "data": {
      "text/plain": [
       "(array([19341.        , 19341.08333333, 19341.16666667, 19341.25      ,\n",
       "        19341.33333333, 19341.41666667, 19341.5       , 19341.58333333,\n",
       "        19341.66666667, 19341.75      ]),\n",
       " [Text(19341.0, 0, '2022-12-15 00:00:00'),\n",
       "  Text(19341.083333333332, 0, '2022-12-15 02:00:00'),\n",
       "  Text(19341.166666666668, 0, '2022-12-15 04:00:00'),\n",
       "  Text(19341.25, 0, '2022-12-15 06:00:00'),\n",
       "  Text(19341.333333333332, 0, '2022-12-15 08:00:00'),\n",
       "  Text(19341.416666666668, 0, '2022-12-15 10:00:00'),\n",
       "  Text(19341.5, 0, '2022-12-15 12:00:00'),\n",
       "  Text(19341.583333333332, 0, '2022-12-15 14:00:00'),\n",
       "  Text(19341.666666666668, 0, '2022-12-15 16:00:00'),\n",
       "  Text(19341.75, 0, '2022-12-15 18:00:00')])"
      ]
     },
     "execution_count": 7,
     "metadata": {},
     "output_type": "execute_result"
    },
    {
     "data": {
      "image/png": "[encoded data removed]",
      "text/plain": [
       "<Figure size 640x480 with 1 Axes>"
      ]
     },
     "metadata": {},
     "output_type": "display_data"
    }
   ],
   "source": [
    "import matplotlib.dates as dates\n",
    "plt.plot(heart_rate['datetime'][:40],heart_rate['hr'][:40])\n",
    "plt.xlabel('DateTime')\n",
    "plt.ylabel('PpM')\n",
    "formatter = dates.DateFormatter('%Y-%m-%d %H:%M:%S') \n",
    "# plt.autoscale(enable=True, axis='x', tight=True)#plt.axis('tight')\n",
    "plt.gcf().axes[0].xaxis.set_major_formatter(formatter)\n",
    "plt.xticks(rotation=70)"
   ]
  },
  {
   "cell_type": "code",
   "execution_count": null,
   "metadata": {},
   "outputs": [],
   "source": []
  }
 ],
 "metadata": {
  "kernelspec": {
   "display_name": "Python 3.9.15 ('UNAV')",
   "language": "python",
   "name": "python3"
  },
  "language_info": {
   "codemirror_mode": {
    "name": "ipython",
    "version": 3
   },
   "file_extension": ".py",
   "mimetype": "text/x-python",
   "name": "python",
   "nbconvert_exporter": "python",
   "pygments_lexer": "ipython3",
   "version": "3.9.15"
  },
  "orig_nbformat": 4,
  "vscode": {
   "interpreter": {
    "hash": "05b8747ad1f4e83161174706cb9952a9fc2b044920b48c3eb7577be49955884c"
   }
  }
 },
 "nbformat": 4,
 "nbformat_minor": 2
}
