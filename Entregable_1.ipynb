{
 "cells": [
  {
   "cell_type": "markdown",
   "id": "dcbfa81c",
   "metadata": {},
   "source": [
    "## Web scraping exercise\n",
    "\n",
    "Define a generic function `SOS_help` which retrieves help results from Stack Overflow Stunning results. <br>\n",
    "\n",
    "The following command works just fine:"
   ]
  },
  {
   "cell_type": "code",
   "execution_count": 1,
   "id": "bc04244b",
   "metadata": {},
   "outputs": [],
   "source": [
    "try:\n",
    "    from selenium import webdriver\n",
    "    from webdriver_manager.chrome import ChromeDriverManager\n",
    "    from bs4 import BeautifulSoup\n",
    "    from googlesearch import search\n",
    "    import time\n",
    "    from selenium import webdriver\n",
    "    from selenium.webdriver.common.action_chains import ActionChains\n",
    "    from selenium.webdriver.remote.webelement import WebElement\n",
    "    from selenium.webdriver.common.by import By\n",
    "    from selenium.webdriver.common.keys import Keys\n",
    "    from selenium.webdriver.support import expected_conditions as EC\n",
    "    from selenium.webdriver.support.ui import WebDriverWait\n",
    "    from selenium.webdriver.chrome.options import Options\n",
    "    import numpy as np\n",
    "    from selenium.common.exceptions import (\n",
    "        NoSuchElementException,\n",
    "        TimeoutException,\n",
    "        WebDriverException,\n",
    "        )\n",
    "except ImportError as e:\n",
    "    print(\"Error al importar\", e)"
   ]
  },
  {
   "cell_type": "code",
   "execution_count": 2,
   "id": "a2298aae",
   "metadata": {},
   "outputs": [
    {
     "data": {
      "text/plain": [
       "array([ 0.40101794, -0.08280353,  0.44678459,  0.40045683,  0.24372127,\n",
       "        0.82838334,  0.19414446,  0.7951587 , -0.17139264, -0.96413508,\n",
       "        0.97546949, -0.18751571,  0.3741331 , -0.04121835,  0.07873924,\n",
       "       -0.92173229,  0.98824053,  0.66924742, -0.73347807,  0.98167028,\n",
       "       -0.93210054,  0.79471971, -0.05699338,  0.32704125, -0.46550171,\n",
       "        0.17599368, -0.19726808,  0.1891553 , -0.88708533,  0.23283325,\n",
       "        0.79834095,  0.27072969, -0.7440031 ,  0.38822913, -0.60569849,\n",
       "        0.18038616, -0.5931609 , -0.21126168, -0.45263162, -0.88156193,\n",
       "       -0.31214226, -0.06140403,  0.44270279, -0.46470878, -0.34609941,\n",
       "       -0.78536655, -0.40925634, -0.12122893, -0.03582636,  0.52793993,\n",
       "       -0.92124712, -0.93821515, -0.61753745, -0.79128597,  0.55029623,\n",
       "       -0.37716998, -0.87074442, -0.22341443, -0.00948558, -0.98154925,\n",
       "       -0.51856491, -0.00703166, -0.47631049, -0.19173323, -0.90943025,\n",
       "       -0.53715691,  0.67865737, -0.16086126, -0.55900952,  0.92417914,\n",
       "        0.85698345, -0.4051666 , -0.44763649, -0.86706953,  0.05846909,\n",
       "        0.0516279 , -0.40268474, -0.51230968,  0.91628185,  0.47982321,\n",
       "       -0.35063629,  0.68489213, -0.98625289, -0.92633132,  0.60556009,\n",
       "       -0.44502863,  0.20450814,  0.99880365,  0.26939256,  0.83745584,\n",
       "       -0.43371748,  0.63948485, -0.19345548,  0.85741197,  0.15256727,\n",
       "        0.92953557,  0.38108425, -0.99877906,  0.26421558,  0.88624918])"
      ]
     },
     "execution_count": 2,
     "metadata": {},
     "output_type": "execute_result"
    }
   ],
   "source": [
    "import numpy as np\n",
    "np.random.uniform(-1, 1, size=100)"
   ]
  },
  {
   "cell_type": "markdown",
   "id": "f9424932",
   "metadata": {},
   "source": [
    "`print_out` prints command execution"
   ]
  },
  {
   "cell_type": "code",
   "execution_count": 3,
   "id": "8a3e0ebd",
   "metadata": {},
   "outputs": [],
   "source": [
    "def print_output(command):\n",
    "    command = 'print(' + command + ')'\n",
    "    return exec(command)"
   ]
  },
  {
   "cell_type": "code",
   "execution_count": 4,
   "id": "5f7f3d9d",
   "metadata": {},
   "outputs": [
    {
     "name": "stdout",
     "output_type": "stream",
     "text": [
      "[-0.96314211 -0.85736193 -0.03507916  0.37549086  0.88002495  0.1278233\n",
      "  0.94019337 -0.11807651  0.80167634 -0.0681528  -0.06404081 -0.03694416\n",
      "  0.51503323  0.29371345  0.06248178 -0.05329445  0.18847974  0.8604727\n",
      " -0.09537658  0.61416533 -0.28464413 -0.42734619  0.4092813   0.59291321\n",
      " -0.89226552 -0.45732298  0.45435665 -0.0612429   0.13056009  0.26872724\n",
      " -0.84460629 -0.73527501  0.23184179  0.73642036  0.39227315 -0.54633079\n",
      " -0.49257401 -0.82971274  0.55914799 -0.73320393  0.5464592  -0.53940967\n",
      "  0.35057875 -0.92696052  0.55666738 -0.04311629 -0.8721624  -0.54105499\n",
      " -0.9492505  -0.46429908 -0.56322451 -0.25716878 -0.60239251  0.509411\n",
      "  0.4722764  -0.43136566 -0.53263905 -0.89047943  0.18968001  0.43550723\n",
      "  0.00580949  0.82155603 -0.64078936  0.77429382 -0.93363918 -0.05983014\n",
      "  0.38393701 -0.46268902  0.32237089  0.95963512 -0.25312922  0.58356342\n",
      "  0.55226527 -0.95528693 -0.30065112  0.12283861 -0.85907377 -0.00630009\n",
      " -0.37049716  0.86462293 -0.04621932 -0.69017224 -0.80346055 -0.28472579\n",
      "  0.47904597  0.74157917  0.70437967 -0.93885958  0.13676854  0.27440432\n",
      "  0.67322162  0.49295868 -0.13409846  0.50048933  0.35049087  0.42807883\n",
      " -0.70760577 -0.80462228  0.37965828 -0.12868942]\n"
     ]
    }
   ],
   "source": [
    "print_output(command = 'np.random.uniform(-1, 1, size=100)')"
   ]
  },
  {
   "cell_type": "markdown",
   "id": "96d52b22",
   "metadata": {},
   "source": [
    "if `print_out` results in an error, this is printed"
   ]
  },
  {
   "cell_type": "code",
   "execution_count": 5,
   "id": "117a7507",
   "metadata": {},
   "outputs": [
    {
     "ename": "NameError",
     "evalue": "name 'nn' is not defined",
     "output_type": "error",
     "traceback": [
      "\u001b[1;31m---------------------------------------------------------------------------\u001b[0m",
      "\u001b[1;31mNameError\u001b[0m                                 Traceback (most recent call last)",
      "Cell \u001b[1;32mIn [5], line 1\u001b[0m\n\u001b[1;32m----> 1\u001b[0m print_output(command \u001b[39m=\u001b[39;49m \u001b[39m'\u001b[39;49m\u001b[39mnn.random.uniform(-1, 1, size=100)\u001b[39;49m\u001b[39m'\u001b[39;49m)\n",
      "Cell \u001b[1;32mIn [3], line 3\u001b[0m, in \u001b[0;36mprint_output\u001b[1;34m(command)\u001b[0m\n\u001b[0;32m      1\u001b[0m \u001b[39mdef\u001b[39;00m \u001b[39mprint_output\u001b[39m(command):\n\u001b[0;32m      2\u001b[0m     command \u001b[39m=\u001b[39m \u001b[39m'\u001b[39m\u001b[39mprint(\u001b[39m\u001b[39m'\u001b[39m \u001b[39m+\u001b[39m command \u001b[39m+\u001b[39m \u001b[39m'\u001b[39m\u001b[39m)\u001b[39m\u001b[39m'\u001b[39m\n\u001b[1;32m----> 3\u001b[0m     \u001b[39mreturn\u001b[39;00m exec(command)\n",
      "File \u001b[1;32m<string>:1\u001b[0m\n",
      "\u001b[1;31mNameError\u001b[0m: name 'nn' is not defined"
     ]
    }
   ],
   "source": [
    "print_output(command = 'nn.random.uniform(-1, 1, size=100)')"
   ]
  },
  {
   "cell_type": "code",
   "execution_count": 6,
   "id": "5cafc219",
   "metadata": {},
   "outputs": [
    {
     "ename": "TypeError",
     "evalue": "uniform() got an unexpected keyword argument 'siz'",
     "output_type": "error",
     "traceback": [
      "\u001b[1;31m---------------------------------------------------------------------------\u001b[0m",
      "\u001b[1;31mTypeError\u001b[0m                                 Traceback (most recent call last)",
      "Cell \u001b[1;32mIn [6], line 1\u001b[0m\n\u001b[1;32m----> 1\u001b[0m print_output(command \u001b[39m=\u001b[39;49m \u001b[39m'\u001b[39;49m\u001b[39mnp.random.uniform(-1, 1, siz=100)\u001b[39;49m\u001b[39m'\u001b[39;49m)\n",
      "Cell \u001b[1;32mIn [3], line 3\u001b[0m, in \u001b[0;36mprint_output\u001b[1;34m(command)\u001b[0m\n\u001b[0;32m      1\u001b[0m \u001b[39mdef\u001b[39;00m \u001b[39mprint_output\u001b[39m(command):\n\u001b[0;32m      2\u001b[0m     command \u001b[39m=\u001b[39m \u001b[39m'\u001b[39m\u001b[39mprint(\u001b[39m\u001b[39m'\u001b[39m \u001b[39m+\u001b[39m command \u001b[39m+\u001b[39m \u001b[39m'\u001b[39m\u001b[39m)\u001b[39m\u001b[39m'\u001b[39m\n\u001b[1;32m----> 3\u001b[0m     \u001b[39mreturn\u001b[39;00m exec(command)\n",
      "File \u001b[1;32m<string>:1\u001b[0m\n",
      "File \u001b[1;32mmtrand.pyx:1014\u001b[0m, in \u001b[0;36mnumpy.random.mtrand.RandomState.uniform\u001b[1;34m()\u001b[0m\n",
      "\u001b[1;31mTypeError\u001b[0m: uniform() got an unexpected keyword argument 'siz'"
     ]
    }
   ],
   "source": [
    "print_output(command = 'np.random.uniform(-1, 1, siz=100)')"
   ]
  },
  {
   "cell_type": "markdown",
   "id": "5ff1b416",
   "metadata": {},
   "source": [
    "Create a function `get_SOS_help` which: <br>\n",
    "    - Prints \"works as intended\" if no error. <br>\n",
    "    - Prints the first link from stack overflow related to the error. As an example: <br>\n",
    "        `print_output(command = 'np.random.uniform(-1, 1, siz=100)'`\n",
    "        should retrieve the following link:\n",
    "        https://stackoverflow.com/questions/72537485/typeerror-uniform-got-an-unexpected-keyword-argument-low-size <br>\n",
    "    - Prints the most voted help\n",
    "    - Opens a new browser using the link"
   ]
  },
  {
   "cell_type": "code",
   "execution_count": 28,
   "id": "bcbfbe28",
   "metadata": {},
   "outputs": [],
   "source": [
    "def stack_overflow_first_link(error):\n",
    "\n",
    "    query= str(error) + \"stackoverflow\"\n",
    "    print(query)\n",
    "    busqueda = []\n",
    "    for j in search(query, tld=\"co.in\", num=4, stop=4, pause=2):\n",
    "        busqueda.append(j)\n",
    "    return busqueda\n",
    "\n",
    "def prompt_web(link):\n",
    "\n",
    "        driver = webdriver.Chrome(ChromeDriverManager().install())\n",
    "        WAIT_TIME = 10\n",
    "        driver.wait = WebDriverWait(driver, WAIT_TIME)\n",
    "        #Opening the browser and getting the url\n",
    "        #driver = webdriver.Chrome()\n",
    "        driver.get(link)\n",
    "        return stack_overflow_most_voted_help(driver)\n",
    "\n",
    "\n",
    "def stack_overflow_most_voted_help(driver):\n",
    "\n",
    "    html = driver.page_source\n",
    "    # We will use beautifoulsoup to explore the content. \n",
    "    # But will no be used for the final scraper. This is an exploratory example.\n",
    "    soup = BeautifulSoup(html, 'html.parser')\n",
    "    # check if we are correctly connected\n",
    "    results = soup.find_all('div', attrs={'class':'answercell'})\n",
    "    results=results[0].find('div', attrs={'class':'s-prose js-post-body'})\n",
    "    print(results.text)\n",
    "    "
   ]
  },
  {
   "cell_type": "code",
   "execution_count": 29,
   "id": "79289999",
   "metadata": {},
   "outputs": [
    {
     "name": "stdout",
     "output_type": "stream",
     "text": [
      "name 'nn' is not defined\n",
      "name 'nn' is not definedstackoverflow\n",
      "https://stackoverflow.com/questions/56633138/nameerror-name-nn-is-not-defined\n"
     ]
    },
    {
     "name": "stderr",
     "output_type": "stream",
     "text": [
      "C:\\Users\\javier\\AppData\\Local\\Temp\\ipykernel_17136\\2136051465.py:12: DeprecationWarning: executable_path has been deprecated, please pass in a Service object\n",
      "  driver = webdriver.Chrome(ChromeDriverManager().install())\n"
     ]
    },
    {
     "name": "stdout",
     "output_type": "stream",
     "text": [
      "\n",
      "If you got this error you can fix it with the following code:\n",
      "import torch\n",
      "import torch.nn as nn\n",
      "\n",
      "You need to include both lines, since if you set just the second one it may not work if the torch package is not imported.\n",
      "Where torch and torch.nn (or just nn) are two of the main PyTorch packages. You can help(torch.nn) to confirm this.\n",
      "It is not uncommon when you include nn to include the functional interface as F like this:\n",
      "import torch\n",
      "import torch.nn as nn\n",
      "import torch.nn.functional as F\n",
      "\n",
      "To bring you the hints what you imported or what is inside the nn package I provided the list:\n",
      "['AdaptiveAvgPool1d', 'AdaptiveAvgPool2d', 'AdaptiveAvgPool3d', 'AdaptiveLogSoftmaxWithLoss', 'AdaptiveMaxPool1d', 'AdaptiveMaxPool2d', 'AdaptiveMaxPool3d', 'AlphaDropout', 'AvgPool1d', 'AvgPool2d', 'AvgPool3d', 'BCELoss', 'BCEWithLogitsLoss', 'BatchNorm1d', 'BatchNorm2d', 'BatchNorm3d', 'Bilinear', 'CELU', 'CTCLoss', 'ConstantPad1d', 'ConstantPad2d', 'ConstantPad3d', 'Container', 'Conv1d', 'Conv2d', 'Conv3d', 'ConvTranspose1d', 'ConvTranspose2d', 'ConvTranspose3d', 'CosineEmbeddingLoss', 'CosineSimilarity', 'CrossEntropyLoss', 'CrossMapLRN2d', 'DataParallel', 'Dropout', 'Dropout2d', 'Dropout3d', 'ELU', 'Embedding', 'EmbeddingBag', 'FeatureAlphaDropout', 'Fold', 'FractionalMaxPool2d', 'GLU', 'GRU', 'GRUCell', 'GroupNorm', 'Hardshrink', 'Hardtanh', 'HingeEmbeddingLoss', 'InstanceNorm1d', 'InstanceNorm2d', 'InstanceNorm3d', 'KLDivLoss', 'L1Loss', 'LPPool1d', 'LPPool2d', 'LSTM', 'LSTMCell', 'LayerNorm', 'LeakyReLU', 'Linear', 'LocalResponseNorm', 'LogSigmoid', 'LogSoftmax', 'MSELoss', 'MarginRankingLoss', 'MaxPool1d', 'MaxPool2d', 'MaxPool3d', 'MaxUnpool1d', 'MaxUnpool2d', 'MaxUnpool3d', 'Module', 'ModuleDict', 'ModuleList', 'MultiLabelMarginLoss', 'MultiLabelSoftMarginLoss', 'MultiMarginLoss', 'NLLLoss', 'NLLLoss2d', 'PReLU', 'PairwiseDistance', 'Parameter', 'ParameterDict', 'ParameterList', 'PixelShuffle', 'PoissonNLLLoss', 'RNN', 'RNNBase', 'RNNCell', 'RNNCellBase', 'RReLU', 'ReLU', 'ReLU6', 'ReflectionPad1d', 'ReflectionPad2d', 'ReplicationPad1d', 'ReplicationPad2d', 'ReplicationPad3d', 'SELU', 'Sequential', 'Sigmoid', 'SmoothL1Loss', 'SoftMarginLoss', 'Softmax', 'Softmax2d', 'Softmin', 'Softplus', 'Softshrink', 'Softsign', 'Tanh', 'Tanhshrink', 'Threshold', 'TripletMarginLoss', 'Unfold', 'Upsample', 'UpsamplingBilinear2d', 'UpsamplingNearest2d', 'ZeroPad2d', '_VF', '__builtins__', '__cached__', '__doc__', '__file__', '__loader__', '__name__', '__package__', '__path__', '__spec__', '_functions', '_reduction', 'backends', 'functional', 'grad', 'init', 'modules', 'parallel', 'parameter', 'utils']\n",
      "\n",
      "Containing many classes where probable the most fundamental one is the PyTorch class nn.Module.\n",
      "Do not confuse PyTorch class nn.Module with the Python modules.\n",
      "\n",
      "To fix the SLL model from the question you just have to add the first two lines: \n",
      "import torch\n",
      "import torch.nn as nn\n",
      "\n",
      "class SLL(nn.Module):\n",
      "    \"single linear layer\"\n",
      "    def __init__(self):\n",
      "        super().__init__()\n",
      "        self.l1 = nn.Linear(10,100)        \n",
      "\n",
      "    def forward(self)->None: \n",
      "        print(\"SLL:forward\")\n",
      "\n",
      "# we create a module instance m1\n",
      "m1 = SLL()\n",
      "\n",
      "And you will get the output:\n",
      "SLL(\n",
      "  (l1): Linear(in_features=10, out_features=100, bias=True)\n",
      ")\n",
      "\n",
      "\n"
     ]
    }
   ],
   "source": [
    "# command = 'np.random.uniform(-1, 1, siz=100)'\n",
    "command = 'nn.random.uniform(-1, 1, size=100)'\n",
    "resultado = get_SOS_help(command)"
   ]
  },
  {
   "cell_type": "markdown",
   "id": "a2dae86a",
   "metadata": {},
   "source": [
    "## Create a malfunctioning code and use this function on it"
   ]
  },
  {
   "cell_type": "code",
   "execution_count": null,
   "id": "87272f6c",
   "metadata": {},
   "outputs": [],
   "source": [
    "## YOUR CODE HERE"
   ]
  }
 ],
 "metadata": {
  "kernelspec": {
   "display_name": "Python 3.9.15 ('UNAV')",
   "language": "python",
   "name": "python3"
  },
  "language_info": {
   "codemirror_mode": {
    "name": "ipython",
    "version": 3
   },
   "file_extension": ".py",
   "mimetype": "text/x-python",
   "name": "python",
   "nbconvert_exporter": "python",
   "pygments_lexer": "ipython3",
   "version": "3.9.15"
  },
  "vscode": {
   "interpreter": {
    "hash": "05b8747ad1f4e83161174706cb9952a9fc2b044920b48c3eb7577be49955884c"
   }
  }
 },
 "nbformat": 4,
 "nbformat_minor": 5
}
