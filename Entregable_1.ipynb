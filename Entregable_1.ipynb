{
 "cells": [
  {
   "cell_type": "markdown",
   "id": "dcbfa81c",
   "metadata": {},
   "source": [
    "## Web scraping exercise\n",
    "\n",
    "Define a generic function `SOS_help` which retrieves help results from Stack Overflow Stunning results. <br>\n",
    "\n",
    "The following command works just fine:"
   ]
  },
  {
   "cell_type": "code",
   "execution_count": 2,
   "id": "bc04244b",
   "metadata": {},
   "outputs": [],
   "source": [
    "try:\n",
    "    from selenium import webdriver\n",
    "    from webdriver_manager.chrome import ChromeDriverManager\n",
    "    from bs4 import BeautifulSoup\n",
    "    from googlesearch import search\n",
    "    import time\n",
    "    from selenium import webdriver\n",
    "    from selenium.webdriver.common.action_chains import ActionChains\n",
    "    from selenium.webdriver.remote.webelement import WebElement\n",
    "    from selenium.webdriver.common.by import By\n",
    "    from selenium.webdriver.common.keys import Keys\n",
    "    from selenium.webdriver.support import expected_conditions as EC\n",
    "    from selenium.webdriver.support.ui import WebDriverWait\n",
    "    from selenium.webdriver.chrome.options import Options\n",
    "    import numpy as np\n",
    "    from selenium.common.exceptions import (\n",
    "        NoSuchElementException,\n",
    "        TimeoutException,\n",
    "        WebDriverException,\n",
    "        )\n",
    "except ImportError as e:\n",
    "    print(\"Error al importar\", e)"
   ]
  },
  {
   "cell_type": "code",
   "execution_count": 3,
   "id": "a2298aae",
   "metadata": {},
   "outputs": [
    {
     "data": {
      "text/plain": [
       "array([ 0.77726608,  0.42678401, -0.90354536,  0.77718067, -0.12517702,\n",
       "        0.0606966 , -0.00955041, -0.02510635,  0.60819667,  0.85286304,\n",
       "       -0.6815932 ,  0.16384533,  0.30220323,  0.47181446,  0.83983577,\n",
       "       -0.07575961, -0.83833877, -0.86183898, -0.90913565, -0.7123836 ,\n",
       "        0.06126279, -0.72578187,  0.78391377,  0.1899886 ,  0.24149746,\n",
       "       -0.98549291, -0.68186723, -0.64741019,  0.45933293,  0.90826835,\n",
       "       -0.27939316,  0.53349536, -0.0081633 , -0.63723774,  0.33682748,\n",
       "       -0.08039973, -0.95629773, -0.53187473,  0.0092593 ,  0.1157485 ,\n",
       "       -0.67788052,  0.3360216 , -0.22136051,  0.0444863 ,  0.46197252,\n",
       "       -0.72497229, -0.40079981, -0.02833842, -0.96128248,  0.30171411,\n",
       "        0.78838062, -0.92764161,  0.73511657, -0.64279942, -0.21993457,\n",
       "       -0.691827  ,  0.94030931,  0.28469842,  0.62487096, -0.29618529,\n",
       "       -0.64178512, -0.27301631, -0.03287732, -0.3792793 , -0.49519979,\n",
       "        0.39534441, -0.905373  , -0.74118358, -0.91440352,  0.47764191,\n",
       "       -0.06891013,  0.42894508, -0.41446679, -0.46803414,  0.78166876,\n",
       "       -0.21532217, -0.93576826, -0.64827648,  0.39708782, -0.09837609,\n",
       "       -0.46221761, -0.37799696, -0.02632109,  0.84741814, -0.09735298,\n",
       "       -0.35761449, -0.22481454, -0.6953287 ,  0.84084724,  0.54187793,\n",
       "       -0.41732064,  0.76314845,  0.25763935,  0.41352266, -0.81452758,\n",
       "       -0.36538402, -0.89432925, -0.75461521, -0.5634132 ,  0.77617929])"
      ]
     },
     "execution_count": 3,
     "metadata": {},
     "output_type": "execute_result"
    }
   ],
   "source": [
    "import numpy as np\n",
    "np.random.uniform(-1, 1, size=100)"
   ]
  },
  {
   "cell_type": "markdown",
   "id": "f9424932",
   "metadata": {},
   "source": [
    "`print_out` prints command execution"
   ]
  },
  {
   "cell_type": "code",
   "execution_count": 4,
   "id": "8a3e0ebd",
   "metadata": {},
   "outputs": [],
   "source": [
    "def print_output(command):\n",
    "    command = 'print(' + command + ')'\n",
    "    return exec(command)"
   ]
  },
  {
   "cell_type": "code",
   "execution_count": 5,
   "id": "5f7f3d9d",
   "metadata": {},
   "outputs": [
    {
     "name": "stdout",
     "output_type": "stream",
     "text": [
      "[-0.19207637 -0.92157809 -0.16579626 -0.22606112 -0.41687879 -0.82524782\n",
      " -0.81175578  0.83494127  0.8628821   0.48301558 -0.7882595  -0.46643989\n",
      " -0.22913945 -0.51626116  0.48829064  0.18556762  0.2159393   0.8676997\n",
      " -0.40098139  0.55568634  0.64575323 -0.95744672 -0.11205166  0.93686498\n",
      "  0.13072799  0.6746388  -0.77682345  0.34552923  0.99095406  0.88815646\n",
      "  0.85175696  0.03825003  0.73978284  0.13015023 -0.35317458  0.78482913\n",
      " -0.45586773  0.0876795   0.72502062 -0.88094255  0.68371803 -0.86726854\n",
      " -0.15359688  0.84764652  0.51491977  0.64198262  0.32240454 -0.71827636\n",
      "  0.55207787 -0.71293376 -0.23627902 -0.37856911  0.34552909 -0.18464222\n",
      "  0.8155127  -0.585018   -0.78947127  0.36067371 -0.09031215 -0.9106583\n",
      " -0.21543463 -0.88444807 -0.72845192 -0.04196155  0.74802607 -0.40201092\n",
      " -0.00547777 -0.1355691   0.29470535  0.67227057  0.30579191  0.39400956\n",
      "  0.6502228   0.37499052  0.06588175  0.29245644 -0.58803989  0.96025734\n",
      "  0.01773893  0.84454555  0.08886214 -0.81795053  0.43899515 -0.58086009\n",
      "  0.04886111 -0.66208931 -0.83671672 -0.36984889  0.55772995  0.49342821\n",
      " -0.96686283 -0.93192315 -0.3724027  -0.63794687  0.78081409  0.96157415\n",
      "  0.64401939 -0.46894997 -0.58314683 -0.79991452]\n"
     ]
    }
   ],
   "source": [
    "print_output(command = 'np.random.uniform(-1, 1, size=100)')"
   ]
  },
  {
   "cell_type": "markdown",
   "id": "96d52b22",
   "metadata": {},
   "source": [
    "if `print_out` results in an error, this is printed"
   ]
  },
  {
   "cell_type": "code",
   "execution_count": 6,
   "id": "117a7507",
   "metadata": {},
   "outputs": [
    {
     "ename": "NameError",
     "evalue": "name 'nn' is not defined",
     "output_type": "error",
     "traceback": [
      "\u001b[1;31m---------------------------------------------------------------------------\u001b[0m",
      "\u001b[1;31mNameError\u001b[0m                                 Traceback (most recent call last)",
      "Cell \u001b[1;32mIn [6], line 1\u001b[0m\n\u001b[1;32m----> 1\u001b[0m print_output(command \u001b[39m=\u001b[39;49m \u001b[39m'\u001b[39;49m\u001b[39mnn.random.uniform(-1, 1, size=100)\u001b[39;49m\u001b[39m'\u001b[39;49m)\n",
      "Cell \u001b[1;32mIn [4], line 3\u001b[0m, in \u001b[0;36mprint_output\u001b[1;34m(command)\u001b[0m\n\u001b[0;32m      1\u001b[0m \u001b[39mdef\u001b[39;00m \u001b[39mprint_output\u001b[39m(command):\n\u001b[0;32m      2\u001b[0m     command \u001b[39m=\u001b[39m \u001b[39m'\u001b[39m\u001b[39mprint(\u001b[39m\u001b[39m'\u001b[39m \u001b[39m+\u001b[39m command \u001b[39m+\u001b[39m \u001b[39m'\u001b[39m\u001b[39m)\u001b[39m\u001b[39m'\u001b[39m\n\u001b[1;32m----> 3\u001b[0m     \u001b[39mreturn\u001b[39;00m exec(command)\n",
      "File \u001b[1;32m<string>:1\u001b[0m\n",
      "\u001b[1;31mNameError\u001b[0m: name 'nn' is not defined"
     ]
    }
   ],
   "source": [
    "print_output(command = 'nn.random.uniform(-1, 1, size=100)')"
   ]
  },
  {
   "cell_type": "code",
   "execution_count": 7,
   "id": "5cafc219",
   "metadata": {},
   "outputs": [
    {
     "ename": "TypeError",
     "evalue": "uniform() got an unexpected keyword argument 'siz'",
     "output_type": "error",
     "traceback": [
      "\u001b[1;31m---------------------------------------------------------------------------\u001b[0m",
      "\u001b[1;31mTypeError\u001b[0m                                 Traceback (most recent call last)",
      "Cell \u001b[1;32mIn [7], line 1\u001b[0m\n\u001b[1;32m----> 1\u001b[0m print_output(command \u001b[39m=\u001b[39;49m \u001b[39m'\u001b[39;49m\u001b[39mnp.random.uniform(-1, 1, siz=100)\u001b[39;49m\u001b[39m'\u001b[39;49m)\n",
      "Cell \u001b[1;32mIn [4], line 3\u001b[0m, in \u001b[0;36mprint_output\u001b[1;34m(command)\u001b[0m\n\u001b[0;32m      1\u001b[0m \u001b[39mdef\u001b[39;00m \u001b[39mprint_output\u001b[39m(command):\n\u001b[0;32m      2\u001b[0m     command \u001b[39m=\u001b[39m \u001b[39m'\u001b[39m\u001b[39mprint(\u001b[39m\u001b[39m'\u001b[39m \u001b[39m+\u001b[39m command \u001b[39m+\u001b[39m \u001b[39m'\u001b[39m\u001b[39m)\u001b[39m\u001b[39m'\u001b[39m\n\u001b[1;32m----> 3\u001b[0m     \u001b[39mreturn\u001b[39;00m exec(command)\n",
      "File \u001b[1;32m<string>:1\u001b[0m\n",
      "File \u001b[1;32mmtrand.pyx:1014\u001b[0m, in \u001b[0;36mnumpy.random.mtrand.RandomState.uniform\u001b[1;34m()\u001b[0m\n",
      "\u001b[1;31mTypeError\u001b[0m: uniform() got an unexpected keyword argument 'siz'"
     ]
    }
   ],
   "source": [
    "print_output(command = 'np.random.uniform(-1, 1, siz=100)')"
   ]
  },
  {
   "cell_type": "markdown",
   "id": "5ff1b416",
   "metadata": {},
   "source": [
    "Create a function `get_SOS_help` which: <br>\n",
    "    - Prints \"works as intended\" if no error. <br>\n",
    "    - Prints the first link from stack overflow related to the error. As an example: <br>\n",
    "        `print_output(command = 'np.random.uniform(-1, 1, siz=100)'`\n",
    "        should retrieve the following link:\n",
    "        https://stackoverflow.com/questions/72537485/typeerror-uniform-got-an-unexpected-keyword-argument-low-size <br>\n",
    "    - Prints the most voted help\n",
    "    - Opens a new browser using the link"
   ]
  },
  {
   "cell_type": "markdown",
   "id": "6a8331c5",
   "metadata": {},
   "source": [
    "## Ejecutar todas estas celdas hasta abajo"
   ]
  },
  {
   "cell_type": "code",
   "execution_count": 13,
   "id": "bcbfbe28",
   "metadata": {},
   "outputs": [],
   "source": [
    "def stack_overflow_first_link(error):\n",
    "\n",
    "    query= str(error) + \"stackoverflow\"\n",
    "    busqueda = []\n",
    "    for j in search(query, tld=\"co.in\", num=4, stop=4, pause=2):\n",
    "        busqueda.append(j)\n",
    "    return busqueda\n",
    "\n",
    "def prompt_web(link):\n",
    "\n",
    "        driver = webdriver.Chrome(ChromeDriverManager().install())\n",
    "        WAIT_TIME = 10\n",
    "        driver.wait = WebDriverWait(driver, WAIT_TIME)\n",
    "        #Opening the browser and getting the url\n",
    "        #driver = webdriver.Chrome()\n",
    "        driver.get(link)\n",
    "        return stack_overflow_most_voted_help(driver)\n",
    "\n",
    "\n",
    "def stack_overflow_most_voted_help(driver):\n",
    "\n",
    "    html = driver.page_source\n",
    "    # We will use beautifoulsoup to explore the content. \n",
    "    # But will no be used for the final scraper. This is an exploratory example.\n",
    "    soup = BeautifulSoup(html, 'html.parser')\n",
    "    # check if we are correctly connected\n",
    "    results = soup.find_all('div', attrs={'class':'answercell'})\n",
    "    results=results[0].find('div', attrs={'class':'s-prose js-post-body'})\n",
    "    print(results.text)\n",
    "    "
   ]
  },
  {
   "cell_type": "code",
   "execution_count": 14,
   "id": "f463a097",
   "metadata": {},
   "outputs": [],
   "source": [
    "# get Stack Overflow Stunning help\n",
    "def get_SOS_help(command):\n",
    "    \n",
    "    try:\n",
    "        exec(command)\n",
    "        print(\"works as intended\")\n",
    "    except Exception as e:\n",
    "        print(e)\n",
    "        busqueda=stack_overflow_first_link(e)\n",
    "        print(busqueda[0])\n",
    "        \n",
    "    return prompt_web(busqueda[0])"
   ]
  },
  {
   "cell_type": "markdown",
   "id": "a2dae86a",
   "metadata": {},
   "source": [
    "## Create a malfunctioning code and use this function on it"
   ]
  },
  {
   "cell_type": "code",
   "execution_count": 17,
   "id": "87272f6c",
   "metadata": {},
   "outputs": [
    {
     "name": "stdout",
     "output_type": "stream",
     "text": [
      "uniform() got an unexpected keyword argument 'siz'\n",
      "https://stackoverflow.com/questions/72537485/typeerror-uniform-got-an-unexpected-keyword-argument-low-size\n",
      "\n",
      "You must declare the alias library or the library name directly\n",
      "        import numpy as np\n",
      "        \n",
      "        def apply_net(y_in):\n",
      "          global w, b\n",
      "        \n",
      "          z=np.dot(w, y_in)+b\n",
      "          return(1/(1+np.exp(-z)))\n",
      "        \n",
      "        N0=2\n",
      "        N1=1 \n",
      "        \n",
      "        w=np.random.uniform(low=-10,high=+10,size=(N1,N0)) # random weights: N1xN0\n",
      "        b=np.random.uniform(low=-1,high=+1,size=N1) #biases: N1 vector\n",
      "\n",
      "\n"
     ]
    }
   ],
   "source": [
    "## YOUR CODE HERE\n",
    "#filtrar warnings por la libreria de chrome\n",
    "import warnings\n",
    "warnings.filterwarnings(\"ignore\") \n",
    "command = 'np.random.uniform(-1, 1, siz=100)'\n",
    "# command = 'nn.random.uniform(-1, 1, size=100)'\n",
    "resultado = get_SOS_help(command)"
   ]
  },
  {
   "cell_type": "code",
   "execution_count": null,
   "id": "6b3bfe36",
   "metadata": {},
   "outputs": [],
   "source": []
  }
 ],
 "metadata": {
  "kernelspec": {
   "display_name": "Python 3.9.15 ('UNAV')",
   "language": "python",
   "name": "python3"
  },
  "language_info": {
   "codemirror_mode": {
    "name": "ipython",
    "version": 3
   },
   "file_extension": ".py",
   "mimetype": "text/x-python",
   "name": "python",
   "nbconvert_exporter": "python",
   "pygments_lexer": "ipython3",
   "version": "3.9.15"
  },
  "vscode": {
   "interpreter": {
    "hash": "05b8747ad1f4e83161174706cb9952a9fc2b044920b48c3eb7577be49955884c"
   }
  }
 },
 "nbformat": 4,
 "nbformat_minor": 5
}
